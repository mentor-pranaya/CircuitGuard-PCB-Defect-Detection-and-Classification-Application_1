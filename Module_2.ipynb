{
 "cells": [
  {
   "cell_type": "code",
   "execution_count": null,
   "id": "d359719c-7563-4c2c-a2af-e81c5725dc5b",
   "metadata": {},
   "outputs": [],
   "source": [
    "# 22-10-2025\n",
    "# verify masks & contour detection visually \n",
    "\n",
    "import cv2\n",
    "import os\n",
    "import matplotlib.pyplot as plt\n",
    "\n",
    "base_dir = r\"C:\\Users\\Kandu\\OneDrive\\Desktop\\Infosys SpringBoard Internship\\PCB_DATASET\"\n",
    "mask_root = os.path.join(base_dir, \"outputs_simple\")\n",
    "output_dir = os.path.join(base_dir, \"defect_ROIs_visual\")\n",
    "\n",
    "os.makedirs(output_dir, exist_ok=True)\n",
    "\n",
    "for defect_type in os.listdir(mask_root):\n",
    "    defect_path = os.path.join(mask_root, defect_type)\n",
    "    if not os.path.isdir(defect_path):\n",
    "        continue\n",
    "\n",
    "    print(f\"\\nProcessing defect type: {defect_type}\")\n",
    "\n",
    "    for file_name in os.listdir(defect_path):\n",
    "        if not file_name.endswith(\"_mask.jpg\"):\n",
    "            continue\n",
    "\n",
    "        mask_path = os.path.join(defect_path, file_name)\n",
    "        mask = cv2.imread(mask_path, cv2.IMREAD_GRAYSCALE)\n",
    "        if mask is None:\n",
    "            print(f\"Could not read file: {file_name}\")\n",
    "            continue\n",
    "\n",
    "        contours, _ = cv2.findContours(mask, cv2.RETR_EXTERNAL, cv2.CHAIN_APPROX_SIMPLE)\n",
    "\n",
    "        vis = cv2.cvtColor(mask, cv2.COLOR_GRAY2BGR)\n",
    "        cv2.drawContours(vis, contours, -1, (0, 255, 0), 2)\n",
    "\n",
    "        plt.figure(figsize=(5, 5))\n",
    "        plt.imshow(cv2.cvtColor(vis, cv2.COLOR_BGR2RGB))\n",
    "        plt.title(f\"{file_name} – Contours Detected: {len(contours)}\")\n",
    "        plt.axis(\"off\")\n",
    "        plt.show()\n"
   ]
  }
 ],
 "metadata": {
  "kernelspec": {
   "display_name": "Python 3 (ipykernel)",
   "language": "python",
   "name": "python3"
  },
  "language_info": {
   "codemirror_mode": {
    "name": "ipython",
    "version": 3
   },
   "file_extension": ".py",
   "mimetype": "text/x-python",
   "name": "python",
   "nbconvert_exporter": "python",
   "pygments_lexer": "ipython3",
   "version": "3.13.7"
  }
 },
 "nbformat": 4,
 "nbformat_minor": 5
}
